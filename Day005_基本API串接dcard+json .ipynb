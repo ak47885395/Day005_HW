{
 "cells": [
  {
   "cell_type": "code",
   "execution_count": 57,
   "metadata": {},
   "outputs": [],
   "source": [
    "import requests\n",
    "r=requests.get(\"https://www.dcard.tw/_api/forums/pet/posts?popular=true\")\n",
    "request=r.text"
   ]
  },
  {
   "cell_type": "code",
   "execution_count": 45,
   "metadata": {
    "scrolled": false
   },
   "outputs": [
    {
     "name": "stdout",
     "output_type": "stream",
     "text": [
      "1.這個 API 一次會回傳幾筆資料？每一筆資料包含哪些欄位？\n",
      "{'id': 234157425, 'title': '不要再以領養代替購買來罵人了', 'excerpt': '太多人脫離問題了，把標題改掉比較快，我現在不是在支持購買或不支持領養，留言到後面怎麼變得好像我不支持領養一樣，我現在是在說那些以「領養代替購買」來靠杯買寵物的人……，開始對購買的人人身攻擊、甚至說寵物', 'anonymousSchool': False, 'anonymousDepartment': False, 'pinned': False, 'forumId': '7ee21581-1307-4ba9-b9dc-82028bdcca49', 'replyId': None, 'createdAt': '2020-08-02T09:17:51.740Z', 'updatedAt': '2020-08-02T23:36:52.576Z', 'commentCount': 413, 'likeCount': 1817, 'withNickname': True, 'tags': [], 'topics': ['貓', '寵物', '品種'], 'meta': {'layout': 'classic'}, 'forumName': '寵物', 'forumAlias': 'pet', 'nsfw': False, 'gender': 'F', 'school': '家有三寶(๑❛ᴗ❛๑)', 'department': 'lilmim', 'replyTitle': None, 'mediaMeta': [{'id': '2ec7d3de-39bd-41fa-bcdc-4637071905a9', 'url': 'https://i.imgur.com/ydCzy3Ql.jpg', 'normalizedUrl': 'https://i.imgur.com/ydCzy3Ql.jpg', 'thumbnail': 'https://i.imgur.com/ydCzy3Ql.jpg', 'type': 'image/thumbnail', 'tags': ['ANNOTATED'], 'createdAt': '2020-08-02T09:17:51.740Z', 'updatedAt': '2020-08-02T23:36:52.576Z'}, {'id': '2ec7d3de-39bd-41fa-bcdc-4637071905a9', 'url': 'https://i.imgur.com/ydCzy3Q.jpg', 'normalizedUrl': 'https://imgur.com/ydCzy3Q', 'thumbnail': 'https://i.imgur.com/ydCzy3Ql.jpg', 'type': 'image/imgur', 'tags': ['ANNOTATED'], 'createdAt': '2020-08-02T09:17:51.740Z', 'updatedAt': '2020-08-02T23:36:52.576Z'}], 'reactions': [{'id': '286f599c-f86a-4932-82f0-f5a06f1eca03', 'count': 1796}, {'id': 'aa0d425f-d530-4478-9a77-fe3aedc79eea', 'count': 16}, {'id': '011ead16-9b83-4729-9fde-c588920c6c2d', 'count': 5}], 'hidden': False, 'customStyle': None, 'isSuspiciousAccount': False, 'layout': 'classic', 'withImages': True, 'withVideos': False, 'media': [{'url': 'https://i.imgur.com/ydCzy3Q.jpg'}], 'reportReasonText': '', 'postAvatar': ''}\n",
      "id\n",
      "title\n",
      "excerpt\n",
      "anonymousSchool\n",
      "anonymousDepartment\n",
      "pinned\n",
      "forumId\n",
      "replyId\n",
      "createdAt\n",
      "updatedAt\n",
      "commentCount\n",
      "likeCount\n",
      "withNickname\n",
      "tags\n",
      "topics\n",
      "meta\n",
      "forumName\n",
      "forumAlias\n",
      "nsfw\n",
      "gender\n",
      "school\n",
      "department\n",
      "replyTitle\n",
      "mediaMeta\n",
      "reactions\n",
      "hidden\n",
      "customStyle\n",
      "isSuspiciousAccount\n",
      "layout\n",
      "withImages\n",
      "withVideos\n",
      "media\n",
      "reportReasonText\n",
      "postAvatar\n",
      "一次回傳的資料數↓\n",
      "30\n",
      "一筆資料的欄位↓\n",
      "34\n"
     ]
    }
   ],
   "source": [
    "print(\"1.這個 API 一次會回傳幾筆資料？每一筆資料包含哪些欄位？\")\n",
    "import json\n",
    "data=json.loads(request)\n",
    "i=0\n",
    "thislist_title = list(data)\n",
    "#thisdict = (thislist)\n",
    "print(thislist_title[0])  # equals to range(6)  ??\n",
    "#print(range(6))\n",
    "for x in thislist_title[0]:\n",
    "    print(x)\n",
    "#for d in thislist:# d is identical to data_title\n",
    "  #  print(d)\n",
    "    i=i+1\n",
    "print(\"一次回傳的資料數↓\")\n",
    "print(len(thislist_title))\n",
    "print(\"一筆資料的欄位↓\")\n",
    "print(i)  "
   ]
  },
  {
   "cell_type": "code",
   "execution_count": 56,
   "metadata": {},
   "outputs": [
    {
     "name": "stdout",
     "output_type": "stream",
     "text": [
      "dict_keys(['id', 'title', 'excerpt', 'anonymousSchool', 'anonymousDepartment', 'pinned', 'forumId', 'replyId', 'createdAt', 'updatedAt', 'commentCount', 'likeCount', 'withNickname', 'tags', 'topics', 'meta', 'forumName', 'forumAlias', 'nsfw', 'gender', 'school', 'department', 'replyTitle', 'mediaMeta', 'reactions', 'hidden', 'customStyle', 'isSuspiciousAccount', 'layout', 'withImages', 'withVideos', 'media', 'reportReasonText', 'postAvatar'])\n"
     ]
    }
   ],
   "source": [
    "\n",
    "json.loads(request) # requset is a  text # you need to make requsets into text in order to use json.loads\n",
    "print(data[0].keys())"
   ]
  },
  {
   "cell_type": "code",
   "execution_count": 48,
   "metadata": {
    "scrolled": false
   },
   "outputs": [
    {
     "name": "stdout",
     "output_type": "stream",
     "text": [
      "2.取出每一筆資料的「標題」、「貼文時間」、「留言人數」、「按讚人數」\n",
      "不要再以領養代替購買來罵人了 2020-08-02T09:17:51.740Z 413 1817\n",
      "一個月失去了兩次的痛 2020-08-02T07:06:00.244Z 43 1445\n",
      "直接被布偶貓嚇醒 2020-08-02T04:50:18.364Z 34 869\n",
      "常常覺得要截肢 2020-08-02T05:56:15.192Z 29 443\n",
      "#圖多  與學妹的兩日相處 2020-08-02T13:47:46.772Z 27 286\n",
      "布偶貓跟羊駝當朋友？ 2020-08-02T02:58:57.367Z 8 249\n",
      "看看你們這群人類 2020-08-02T08:39:12.512Z 2 105\n",
      "貓咪睡姿是不是會越來越像人類 2020-08-02T17:00:49.570Z 7 69\n",
      "小老虎🐯 2020-08-02T12:05:21.217Z 7 44\n",
      "養貓花費？是道德綁架吧！ 2020-08-02T14:38:43.933Z 5 23\n",
      "我爸虐狗=.= 2020-08-02T16:51:44.047Z 13 22\n",
      "沒腦沒關係 但是可以不要欺負小動物嗎😡 2020-08-02T15:07:25.637Z 4 19\n",
      "#問 貓用飲水機 2020-08-02T04:04:43.723Z 13 17\n",
      "TNR撿到孕貓（生小貓了） 2020-08-03T01:15:40.565Z 8 10\n",
      "#圖多 柴犬豆柴傻傻分不清 2020-08-03T00:09:35.003Z 1 10\n",
      "那些被老爹養大的小胖子們 2020-08-02T07:03:00.080Z 1 8\n",
      "網美貓 2020-08-01T19:30:30.289Z 3 8\n",
      "新手貓奴 2020-08-02T20:42:41.990Z 2 7\n",
      "差點以為我的貓長痘痘⋯ 2020-08-03T02:55:43.965Z 3 6\n",
      "協尋貓咪 高雄仁武區 米克斯 2020-08-02T09:39:53.016Z 2 6\n",
      "貓咪在家不見了 2020-08-02T04:31:40.688Z 12 6\n",
      "緊急!!協尋桃園美短 2020-08-02T09:18:10.830Z 0 5\n",
      "把自己關起來 2020-08-02T16:36:55.996Z 2 4\n",
      "我家的貓都是極品part1 2020-08-02T22:58:57.994Z 1 3\n",
      "#魚缸#鬥魚 一夜倒缸心已碎 2020-08-02T12:50:22.655Z 4 3\n",
      "擴香可能讓寵物不舒服 2020-08-02T11:57:00.082Z 1 3\n",
      "為什麼要領養代替購買? 2020-08-03T05:49:30.441Z 0 2\n",
      "不專業飼養 獨角仙+幼蟲（圖多） 2020-08-02T08:37:19.800Z 6 2\n",
      "#問 Ikea層架當貓跳台？ 2020-08-02T05:42:15.479Z 1 2\n",
      "可愛😍 2020-08-02T04:53:39.064Z 0 2\n"
     ]
    }
   ],
   "source": [
    "print(\"2.取出每一筆資料的「標題」、「貼文時間」、「留言人數」、「按讚人數」\")\n",
    "for t in data:\n",
    "    print(t['title'] , t['createdAt'] , t['commentCount'], t['likeCount'] ) # mediaMeta  has mutiple createdAts?"
   ]
  },
  {
   "cell_type": "code",
   "execution_count": 53,
   "metadata": {},
   "outputs": [
    {
     "name": "stdout",
     "output_type": "stream",
     "text": [
      "3.計算熱門/非熱門文章的「平均留言人數」與「平均按讚人數」\n",
      "熱門文章\n",
      "平均留言人數 21.733333333333334\n",
      "平均按讚人數 183.16666666666666\n",
      "非熱門文章\n",
      "平均留言人數 3.6333333333333333\n",
      "平均按讚人數 18.7\n"
     ]
    }
   ],
   "source": [
    "print('3.計算熱門/非熱門文章的「平均留言人數」與「平均按讚人數」')\n",
    "comment_sum=0\n",
    "like_sum=0\n",
    "for d in data:\n",
    "    comment_sum+=d['commentCount']\n",
    "    like_sum+=d['likeCount']\n",
    "print('熱門文章')\n",
    "print('平均留言人數',  comment_sum/len(data))\n",
    "print('平均按讚人數', like_sum/len(data))\n",
    "\n",
    "\n",
    "ra=requests.get(\"https://www.dcard.tw/_api/forums/pet/posts?popular=false\")\n",
    "raw=ra.text  #cannot only translate into text\n",
    "data_nonpopular = json.loads(raw)\n",
    "comment_sum=0\n",
    "like_sum=0\n",
    "for d in data_nonpopular:\n",
    "    comment_sum+=d['commentCount']\n",
    "    like_sum+=d['likeCount']\n",
    "print('非熱門文章')\n",
    "print('平均留言人數' , comment_sum/len(data_nonpopular))\n",
    "print('平均按讚人數' ,  like_sum/len(data_nonpopular))"
   ]
  },
  {
   "cell_type": "code",
   "execution_count": null,
   "metadata": {},
   "outputs": [],
   "source": [
    "'''#  another better way\n",
    "\n",
    "# 1. 這個 API 一次會回傳幾筆資料？每一筆資料包含哪些欄位？\n",
    "import requests\n",
    "r=requests.get(\"https://www.dcard.tw/_api/forums/pet/posts?popular=true\")\n",
    "r.text\n",
    "\n",
    "import json\n",
    "data=json.loads(r.text)\n",
    "print('這個 API 一次會回傳',len(data),'筆資料'+'\\n')\n",
    "print('每一筆資料包含下列欄位:')\n",
    "print(data[0].keys())\n",
    "# 2. 取出每一筆資料的「標題」、「貼文時間」、「留言人數」、「按讚人數」\n",
    "\n",
    "\n",
    "for d in data:\n",
    "    \n",
    "    print('標題: '+d['title'])\n",
    "    print('貼文時間: '+d['createdAt'])\n",
    "    print('留言人數:',d['commentCount'])\n",
    "    print('按讚人數:',d['likeCount'])\n",
    "    print('')\n",
    "    # 3. 計算熱門/非熱門文章的「平均留言人數」與「平均按讚人數」\n",
    "comment_sum=0\n",
    "like_sum=0\n",
    "\n",
    "for d in data:\n",
    "    comment_sum+=d['commentCount']\n",
    "    sum=comment_sum\n",
    "    \n",
    "print('熱門文章')\n",
    "print('平均留言人數:', sum/len(data))\n",
    "\n",
    "for d in data:\n",
    "    like_sum+=d['likeCount']\n",
    "    sum=like_sum\n",
    "print('平均按讚人數:', sum/len(data))\n",
    "print(\"\")\n",
    "\n",
    "\n",
    "ra=requests.get(\"https://www.dcard.tw/_api/forums/pet/posts?popular=false\")\n",
    "data=json.loads(ra.text)\n",
    "\n",
    "comment_sum=0\n",
    "like_sum=0\n",
    "sum=0\n",
    "\n",
    "for d in data:\n",
    "    comment_sum+=d['commentCount']\n",
    "    sum=comment_sum\n",
    "    \n",
    "print('非熱門文章')\n",
    "print('平均留言人數:', sum/len(data))\n",
    "sum=0\n",
    "\n",
    "for d in data:\n",
    "     like_sum+=d['likeCount']\n",
    "     sum=like_sum\n",
    "print('平均按讚人數:', sum/len(data)) '''"
   ]
  }
 ],
 "metadata": {
  "kernelspec": {
   "display_name": "Python 3",
   "language": "python",
   "name": "python3"
  },
  "language_info": {
   "codemirror_mode": {
    "name": "ipython",
    "version": 3
   },
   "file_extension": ".py",
   "mimetype": "text/x-python",
   "name": "python",
   "nbconvert_exporter": "python",
   "pygments_lexer": "ipython3",
   "version": "3.7.6"
  }
 },
 "nbformat": 4,
 "nbformat_minor": 4
}
